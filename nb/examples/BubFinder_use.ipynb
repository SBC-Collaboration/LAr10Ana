{
 "cells": [
  {
   "cell_type": "code",
   "execution_count": 1,
   "id": "cd61726a-66a6-49f4-85d3-3d81b1e8f337",
   "metadata": {},
   "outputs": [],
   "source": [
    "from BubbleFinder import GetBubbles"
   ]
  },
  {
   "cell_type": "code",
   "execution_count": 2,
   "id": "33cfe108-c956-43b7-bb03-9b20166cf13b",
   "metadata": {},
   "outputs": [],
   "source": [
    "event_path = '/exp/e961/data/30l-13-data/20130613_2/2/'"
   ]
  },
  {
   "cell_type": "code",
   "execution_count": 3,
   "id": "c901de33-5761-4be1-9ee1-3df4e07d76fc",
   "metadata": {},
   "outputs": [],
   "source": [
    "#Plot found bubbles using the argument plotMode = True if so desired\n",
    "\n",
    "#circles_found = GetBubbles(event_path, True)\n",
    "circles_found = GetBubbles(event_path)"
   ]
  },
  {
   "cell_type": "code",
   "execution_count": 4,
   "id": "d5bae9a3-c9f8-4c3a-a7e4-355c16f711eb",
   "metadata": {},
   "outputs": [
    {
     "data": {
      "text/plain": [
       "dict_keys(['Cam0', 'Cam1'])"
      ]
     },
     "execution_count": 4,
     "metadata": {},
     "output_type": "execute_result"
    }
   ],
   "source": [
    "circles_found.keys()"
   ]
  },
  {
   "cell_type": "code",
   "execution_count": 5,
   "id": "9846a317-f27f-4b15-82bf-aa324cef0f8c",
   "metadata": {},
   "outputs": [
    {
     "data": {
      "text/plain": [
       "dict_keys(['Frame4', 'Frame5', 'Frame6', 'Frame7', 'Frame8', 'Frame9'])"
      ]
     },
     "execution_count": 5,
     "metadata": {},
     "output_type": "execute_result"
    }
   ],
   "source": [
    "circles_found['Cam1'].keys()"
   ]
  },
  {
   "cell_type": "code",
   "execution_count": 6,
   "id": "5ac627f1-5975-4d4d-87b8-06c0bba704d3",
   "metadata": {},
   "outputs": [
    {
     "data": {
      "text/plain": [
       "dict_keys(['Bubble0', 'Bubble1', 'Bubble2'])"
      ]
     },
     "execution_count": 6,
     "metadata": {},
     "output_type": "execute_result"
    }
   ],
   "source": [
    "circles_found['Cam1']['Frame7'].keys()"
   ]
  },
  {
   "cell_type": "code",
   "execution_count": 7,
   "id": "e535fe7c-d809-4d8c-adfb-3795b813eedd",
   "metadata": {},
   "outputs": [
    {
     "data": {
      "text/plain": [
       "dict_keys(['Pos', 'Radius', 'GOF'])"
      ]
     },
     "execution_count": 7,
     "metadata": {},
     "output_type": "execute_result"
    }
   ],
   "source": [
    "circles_found['Cam0']['Frame7']['Bubble1'].keys()"
   ]
  },
  {
   "cell_type": "code",
   "execution_count": 8,
   "id": "0cd03b8a-d561-4c46-bc91-003d053d02ac",
   "metadata": {},
   "outputs": [
    {
     "data": {
      "text/plain": [
       "(np.uint32(916), np.uint32(1214))"
      ]
     },
     "execution_count": 8,
     "metadata": {},
     "output_type": "execute_result"
    }
   ],
   "source": [
    "circles_found['Cam0']['Frame7']['Bubble1']['Pos']"
   ]
  },
  {
   "cell_type": "code",
   "execution_count": null,
   "id": "6ab0359b-c6ca-4f2e-bc75-bfd1206bb808",
   "metadata": {},
   "outputs": [],
   "source": []
  }
 ],
 "metadata": {
  "kernelspec": {
   "display_name": "Python 3 (ipykernel)",
   "language": "python",
   "name": "python3"
  },
  "language_info": {
   "codemirror_mode": {
    "name": "ipython",
    "version": 3
   },
   "file_extension": ".py",
   "mimetype": "text/x-python",
   "name": "python",
   "nbconvert_exporter": "python",
   "pygments_lexer": "ipython3",
   "version": "3.13.5"
  }
 },
 "nbformat": 4,
 "nbformat_minor": 5
}
