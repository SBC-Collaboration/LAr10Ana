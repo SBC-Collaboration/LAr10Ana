{
 "cells": [
  {
   "cell_type": "code",
   "execution_count": null,
   "id": "0",
   "metadata": {},
   "outputs": [],
   "source": [
    "from sbcbinaryformat import Streamer, Writer\n",
    "import numpy as np\n",
    "\n",
    "from GetEvent import GetEvent\n",
    "import matplotlib as mpl\n",
    "import matplotlib.pyplot as plt\n",
    "\n",
    "from PIL import Image\n",
    "import os"
   ]
  },
  {
   "cell_type": "code",
   "execution_count": null,
   "id": "1",
   "metadata": {},
   "outputs": [],
   "source": [
    "plt.rc('font', size=14)"
   ]
  },
  {
   "cell_type": "code",
   "execution_count": null,
   "id": "2",
   "metadata": {},
   "outputs": [],
   "source": [
    "RUNDIR = \"/exp/e961/data/SBC-25-daqdata/\""
   ]
  },
  {
   "cell_type": "code",
   "execution_count": null,
   "id": "3",
   "metadata": {},
   "outputs": [],
   "source": [
    "runs = [f for f in os.listdir(RUNDIR) if f.startswith(\"20250718\") and \"0\" in os.listdir(RUNDIR + f)]"
   ]
  },
  {
   "cell_type": "code",
   "execution_count": null,
   "id": "4",
   "metadata": {},
   "outputs": [],
   "source": [
    "frames = [\n",
    "    [],\n",
    "    [],\n",
    "    []\n",
    "]\n",
    "\n",
    "for r in runs:\n",
    "    data = GetEvent(RUNDIR + r, 0, \"cam\", strictMode=False)\n",
    "    for c in range(3):\n",
    "        camera = data[\"cam\"][\"c%i\" % (c+1)]\n",
    "        thisframes = []\n",
    "        for key in camera.keys():\n",
    "            if key.startswith(\"frame\"):\n",
    "                frameind = int(key[-1])\n",
    "                thisframes.append((frameind, camera[key], key))\n",
    "\n",
    "        frames[c].append([None for _ in thisframes])\n",
    "        for i, v, key in thisframes:\n",
    "            frames[c][-1][i] = (v, r, key)"
   ]
  },
  {
   "cell_type": "code",
   "execution_count": null,
   "id": "5",
   "metadata": {},
   "outputs": [],
   "source": [
    "RMSs = [\n",
    "    [],\n",
    "    [],\n",
    "    [],\n",
    "]\n",
    "\n",
    "frame_evts = [\n",
    "    [],\n",
    "    [],\n",
    "    [],\n",
    "]\n",
    "\n",
    "for iframe, eventlist in enumerate(frames):\n",
    "    for event in eventlist:\n",
    "        for lo, hi in zip(event[:-1], event[1:]):\n",
    "            lo_v = lo[0]\n",
    "            hi_v = hi[0]\n",
    "            \n",
    "            RMS = np.sqrt(((hi_v - lo_v)**2).mean())\n",
    "            RMSs[iframe].append(RMS)\n",
    "            frame_evts[iframe].append((lo[1], lo[2], hi[2]))\n",
    "\n",
    "RMSs = [np.array(R) for R in RMSs]"
   ]
  },
  {
   "cell_type": "code",
   "execution_count": null,
   "id": "6",
   "metadata": {},
   "outputs": [],
   "source": [
    "_ = plt.hist(RMSs, histtype=\"step\", linewidth=2, label=[\"Camera 1\", \"Camera 2\"])\n",
    "plt.ylabel(\"Number of Frame Differences\")\n",
    "plt.xlabel(\"Average RMS Pixel Difference\")\n",
    "plt.legend()"
   ]
  },
  {
   "cell_type": "code",
   "execution_count": null,
   "id": "7",
   "metadata": {},
   "outputs": [],
   "source": [
    "# BADIND = np.argmax(RMSs[0])\n",
    "\n",
    "BADIND = np.argsort(RMSs[0])[-2]\n",
    "\n",
    "print(frame_evts[0][BADIND])\n",
    "bad = frame_evts[0][BADIND]\n",
    "badrun = bad[0]\n",
    "\n",
    "data = GetEvent(RUNDIR + badrun, 0, \"cam\", strictMode=False)\n",
    "plt.figure(0)\n",
    "plt.imshow(data[\"cam\"][\"c1\"][bad[1]])\n",
    "plt.figure(1)\n",
    "plt.imshow(data[\"cam\"][\"c1\"][bad[2]])\n",
    "# plt.figure(2)\n",
    "# plt.imshow(data[\"cam\"][\"c1\"][bad[1]])"
   ]
  },
  {
   "cell_type": "code",
   "execution_count": null,
   "id": "8",
   "metadata": {},
   "outputs": [],
   "source": []
  }
 ],
 "metadata": {
  "kernelspec": {
   "display_name": "SBC conda (env)",
   "language": "python",
   "name": "sbc-env"
  },
  "language_info": {
   "codemirror_mode": {
    "name": "ipython",
    "version": 3
   },
   "file_extension": ".py",
   "mimetype": "text/x-python",
   "name": "python",
   "nbconvert_exporter": "python",
   "pygments_lexer": "ipython3",
   "version": "3.13.5"
  }
 },
 "nbformat": 4,
 "nbformat_minor": 5
}
