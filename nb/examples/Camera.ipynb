{
 "cells": [
  {
   "cell_type": "code",
   "execution_count": null,
   "id": "0",
   "metadata": {},
   "outputs": [],
   "source": [
    "from sbcbinaryformat import Streamer, Writer\n",
    "import numpy as np\n",
    "\n",
    "from GetEvent import GetEvent\n",
    "import matplotlib as mpl\n",
    "import matplotlib.pyplot as plt\n",
    "\n",
    "from PIL import Image"
   ]
  },
  {
   "cell_type": "code",
   "execution_count": null,
   "id": "1",
   "metadata": {},
   "outputs": [],
   "source": [
    "plt.rc('font', size=14)"
   ]
  },
  {
   "cell_type": "code",
   "execution_count": null,
   "id": "2",
   "metadata": {},
   "outputs": [],
   "source": [
    "TEST_RUN = \"/exp/e961/data/SBC-25-daqdata/20250718_11/\"\n",
    "TEST_EVT = 0"
   ]
  },
  {
   "cell_type": "code",
   "execution_count": null,
   "id": "3",
   "metadata": {},
   "outputs": [],
   "source": [
    "data = GetEvent(TEST_RUN, TEST_EVT, \"cam\", strictMode=False)"
   ]
  },
  {
   "cell_type": "code",
   "execution_count": null,
   "id": "4",
   "metadata": {},
   "outputs": [],
   "source": [
    "data"
   ]
  },
  {
   "cell_type": "code",
   "execution_count": null,
   "id": "5",
   "metadata": {},
   "outputs": [],
   "source": [
    "plt.imshow(data[\"cam\"][\"c1\"][\"frame0\"])"
   ]
  },
  {
   "cell_type": "code",
   "execution_count": null,
   "id": "6",
   "metadata": {},
   "outputs": [],
   "source": [
    "plt.imshow(data[\"cam\"][\"c2\"][\"frame0\"])"
   ]
  },
  {
   "cell_type": "code",
   "execution_count": null,
   "id": "7",
   "metadata": {},
   "outputs": [],
   "source": [
    "plt.imshow(data[\"cam\"][\"c1\"][\"frame1\"] - data[\"cam\"][\"c1\"][\"frame2\"])"
   ]
  },
  {
   "cell_type": "code",
   "execution_count": null,
   "id": "8",
   "metadata": {},
   "outputs": [],
   "source": [
    "plt.imshow(data[\"cam\"][\"c2\"][\"frame1\"] - data[\"cam\"][\"c2\"][\"frame2\"])"
   ]
  },
  {
   "cell_type": "code",
   "execution_count": null,
   "id": "9",
   "metadata": {},
   "outputs": [],
   "source": [
    "image = data[\"cam\"][\"c1\"][\"frame1\"] - data[\"cam\"][\"c1\"][\"frame2\"]"
   ]
  },
  {
   "cell_type": "code",
   "execution_count": null,
   "id": "10",
   "metadata": {},
   "outputs": [],
   "source": [
    "fft_image = np.fft.fft2(image, axes=(0, 1))\n",
    "# shifted_fft_image = np.fft.fftshift(fft_image)\n",
    "psd2D = (np.abs(fft_image)**2).mean(axis=-1)"
   ]
  },
  {
   "cell_type": "code",
   "execution_count": null,
   "id": "11",
   "metadata": {},
   "outputs": [],
   "source": [
    "toshow = np.log10(psd2D)\n",
    "# toshow = psd2D\n",
    "plt.imshow(toshow, vmin=9, vmax=11, origin=\"lower\")\n",
    "cbar = plt.colorbar()\n",
    "cbar.set_label(\"$\\\\log_{10}$ Noise Power\", rotation=-90, labelpad=17)\n",
    "plt.xlabel(\"Pixel Frequency X\")\n",
    "plt.ylabel(\"Pixel Frequency Y\")"
   ]
  },
  {
   "cell_type": "code",
   "execution_count": null,
   "id": "12",
   "metadata": {},
   "outputs": [],
   "source": [
    "def radial_noise_power(image):\n",
    "    # Take FFT\n",
    "    fft_image = np.fft.fft2(image, axes=(0, 1))\n",
    "    # Take norm, average over colors\n",
    "    psd2D = (np.abs(fft_image)**2).mean(axis=-1)\n",
    "\n",
    "    # Get the frequencies\n",
    "    freq_rows = np.fft.fftfreq(psd2D.shape[0])\n",
    "    freq_cols = np.fft.fftfreq(psd2D.shape[1])\n",
    "    freqXs, freqYs = np.meshgrid(freq_rows, freq_cols, indexing=\"ij\")\n",
    "    freqRs = np.sqrt(freqXs**2 + freqYs**2)\n",
    "    rbins = freq_cols\n",
    "    rs = (rbins[:-1] + rbins[1:]) / 2\n",
    "\n",
    "    # Only include the lower half to avoid redundancy\n",
    "    which_im = np.tril(freqRs) != 0\n",
    "\n",
    "    # Set the radial power spectrum\n",
    "    psdR = np.zeros(rbins.size-1)\n",
    "    for irr, (rlo, rhi) in enumerate(zip(rbins[:-1], rbins[1:])):\n",
    "        which_f = which_im & (freqRs >= rlo) & (freqRs < rhi)\n",
    "        psdR[irr] = psd2D[which_f].mean()\n",
    "\n",
    "    return rs, psdR"
   ]
  },
  {
   "cell_type": "code",
   "execution_count": null,
   "id": "13",
   "metadata": {},
   "outputs": [],
   "source": [
    "freqs, psdR = radial_noise_power(image)"
   ]
  },
  {
   "cell_type": "code",
   "execution_count": null,
   "id": "14",
   "metadata": {},
   "outputs": [],
   "source": [
    "plt.plot(freqs, np.log10(psdR))\n",
    "plt.xlabel(\"Radial Pixel Frequency [pix$^{-1}$]\")\n",
    "plt.ylabel(\"$\\\\log_{10}$ Radial Power\")"
   ]
  },
  {
   "cell_type": "code",
   "execution_count": null,
   "id": "15",
   "metadata": {},
   "outputs": [],
   "source": [
    "psdRs = []\n",
    "for i in range(9):\n",
    "    image = data[\"cam\"][\"c1\"][\"frame%i\" % i] - data[\"cam\"][\"c1\"][\"frame%i\" % (i+1)]\n",
    "    freqs, psdR = radial_noise_power(image)\n",
    "    psdRs.append(psdR)"
   ]
  },
  {
   "cell_type": "code",
   "execution_count": null,
   "id": "16",
   "metadata": {},
   "outputs": [],
   "source": [
    "for psdR in psdRs:\n",
    "    plt.plot(freqs, np.log10(psdR))\n",
    "plt.title(\"Camera 1 Run %s Event %i\" % (TEST_RUN.split(\"/\")[-2], TEST_EVT))\n",
    "plt.xlabel(\"Radial Pixel Frequency [pix$^{-1}$]\")\n",
    "plt.ylabel(\"$\\\\log_{10}$ Radial Power\")"
   ]
  },
  {
   "cell_type": "code",
   "execution_count": null,
   "id": "17",
   "metadata": {},
   "outputs": [],
   "source": [
    "# Load a simulated bubble to overlay"
   ]
  },
  {
   "cell_type": "code",
   "execution_count": null,
   "id": "18",
   "metadata": {},
   "outputs": [],
   "source": [
    "# denoised version\n",
    "bkg_img = np.array(Image.open(\"/exp/e961/data/users/gputnam/renders/default_scene_denoised_S1.png\").convert(\"RGB\"))\n",
    "bub_img = np.array(Image.open(\"/exp/e961/data/users/gputnam/renders/bubble_X-3_93_Y-4_24_Z-9_37_denoised_S1.png\").convert(\"RGB\"))\n"
   ]
  },
  {
   "cell_type": "code",
   "execution_count": null,
   "id": "19",
   "metadata": {},
   "outputs": [],
   "source": [
    "# # normal version\n",
    "# bkg_img = np.array(Image.open(\"/exp/e961/data/users/gputnam/renders/default_scene_S2.png\").convert(\"RGB\"))\n",
    "# bub_img = np.array(Image.open(\"/exp/e961/data/users/gputnam/renders/5mm_bubble_4k.png\").convert(\"RGB\"))"
   ]
  },
  {
   "cell_type": "code",
   "execution_count": null,
   "id": "20",
   "metadata": {},
   "outputs": [],
   "source": [
    "plt.imshow(bkg_img)"
   ]
  },
  {
   "cell_type": "code",
   "execution_count": null,
   "id": "21",
   "metadata": {},
   "outputs": [],
   "source": [
    "plt.imshow(bub_img)"
   ]
  },
  {
   "cell_type": "code",
   "execution_count": null,
   "id": "22",
   "metadata": {},
   "outputs": [],
   "source": [
    "bubble = bub_img - bkg_img"
   ]
  },
  {
   "cell_type": "code",
   "execution_count": null,
   "id": "23",
   "metadata": {},
   "outputs": [],
   "source": [
    "plt.imshow(bubble)"
   ]
  },
  {
   "cell_type": "code",
   "execution_count": null,
   "id": "24",
   "metadata": {},
   "outputs": [],
   "source": [
    "plt.imshow(data[\"cam\"][\"c1\"][\"frame1\"] + bubble)"
   ]
  },
  {
   "cell_type": "code",
   "execution_count": null,
   "id": "25",
   "metadata": {},
   "outputs": [],
   "source": [
    "for psdR in psdRs:\n",
    "    plt.plot(freqs, np.log10(psdR), color=\"gray\")\n",
    "\n",
    "_, bubR = radial_noise_power(bubble)\n",
    "plt.plot(freqs, np.log10(bubR), color=\"red\", label=\"Simulated Bubble\", linewidth=2)\n",
    "\n",
    "plt.legend()\n",
    "    \n",
    "plt.xlabel(\"Radial Pixel Frequency [pix$^{-1}$]\")\n",
    "plt.ylabel(\"$\\\\log_{10}$ Radial Power\")\n",
    "plt.xscale(\"log\")"
   ]
  },
  {
   "cell_type": "code",
   "execution_count": null,
   "id": "26",
   "metadata": {},
   "outputs": [],
   "source": [
    "image = data[\"cam\"][\"c1\"][\"frame1\"] + bubble\n",
    "freq_image = np.fft.fft2(image, axes=(0, 1))\n",
    "for i in range(3):\n",
    "    freq_image[:, :, i][freqRs > 1e-1] = 0 \n",
    "    # freq_image[:, :, i][freqRs > 5e-2] = 0 \n",
    "\n",
    "image_denoised = np.abs(np.fft.ifft2(freq_image, axes=(0, 1)))\n",
    "image_denoised = image_denoised - image_denoised.min()\n",
    "image_denoised = 255*image_denoised/image_denoised.max()\n",
    "image_denoised = image_denoised.astype(int)"
   ]
  },
  {
   "cell_type": "code",
   "execution_count": null,
   "id": "27",
   "metadata": {},
   "outputs": [],
   "source": [
    "plt.imshow(image)"
   ]
  },
  {
   "cell_type": "code",
   "execution_count": null,
   "id": "28",
   "metadata": {},
   "outputs": [],
   "source": [
    "plt.imshow(image_denoised)"
   ]
  }
 ],
 "metadata": {
  "kernelspec": {
   "display_name": "SBC conda (env)",
   "language": "python",
   "name": "sbc-env"
  },
  "language_info": {
   "codemirror_mode": {
    "name": "ipython",
    "version": 3
   },
   "file_extension": ".py",
   "mimetype": "text/x-python",
   "name": "python",
   "nbconvert_exporter": "python",
   "pygments_lexer": "ipython3",
   "version": "3.13.5"
  }
 },
 "nbformat": 4,
 "nbformat_minor": 5
}
