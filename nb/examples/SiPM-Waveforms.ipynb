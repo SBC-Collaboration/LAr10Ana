{
 "cells": [
  {
   "cell_type": "code",
   "execution_count": null,
   "id": "0",
   "metadata": {},
   "outputs": [],
   "source": [
    "from sbcbinaryformat import Streamer, Writer\n",
    "import numpy as np\n",
    "import matplotlib.pyplot as plt\n",
    "\n",
    "from GetEvent import GetEvent\n",
    "from SiPMPulses import SiPMPulses"
   ]
  },
  {
   "cell_type": "code",
   "execution_count": null,
   "id": "1",
   "metadata": {},
   "outputs": [],
   "source": [
    "TEST_RUN = \"/exp/e961/data/SBC-25-daqdata/20250611_1/\"\n",
    "TEST_EVT = 0\n",
    "\n",
    "# TEST_RUN = \"/exp/e961/data/SBC-25-daqdata/20250620_0/\""
   ]
  },
  {
   "cell_type": "code",
   "execution_count": null,
   "id": "2",
   "metadata": {},
   "outputs": [],
   "source": [
    "data = GetEvent(TEST_RUN, TEST_EVT)"
   ]
  },
  {
   "cell_type": "code",
   "execution_count": null,
   "id": "3",
   "metadata": {},
   "outputs": [],
   "source": [
    "data[\"scintillation\"].keys()"
   ]
  },
  {
   "cell_type": "code",
   "execution_count": null,
   "id": "4",
   "metadata": {},
   "outputs": [],
   "source": [
    "wvfs = data[\"scintillation\"][\"Waveforms\"]\n",
    "wvfs.shape"
   ]
  },
  {
   "cell_type": "code",
   "execution_count": null,
   "id": "5",
   "metadata": {},
   "outputs": [],
   "source": [
    "# plot the first triggered waveform in each channel\n",
    "for channel in range(wvfs.shape[1]):\n",
    "    plt.plot(wvfs[0, channel, :])"
   ]
  },
  {
   "cell_type": "code",
   "execution_count": null,
   "id": "6",
   "metadata": {},
   "outputs": [],
   "source": [
    "# Run the SiPM analysis\n",
    "sipm_out = SiPMPulses(data)"
   ]
  },
  {
   "cell_type": "code",
   "execution_count": null,
   "id": "7",
   "metadata": {},
   "outputs": [],
   "source": [
    "# pick out a hit to show\n",
    "hit_ind = np.argwhere((~np.isnan(sipm_out[\"hit_t0\"])))[0]\n",
    "hit_t0 = sipm_out[\"hit_t0\"][hit_ind[0], hit_ind[1]]"
   ]
  },
  {
   "cell_type": "code",
   "execution_count": null,
   "id": "8",
   "metadata": {},
   "outputs": [],
   "source": [
    "plt.plot(wvfs[hit_ind[1], hit_ind[0], :])\n",
    "plt.axvline(hit_t0, color=\"red\")\n",
    "plt.title(\"First Hit\")"
   ]
  },
  {
   "cell_type": "code",
   "execution_count": null,
   "id": "9",
   "metadata": {},
   "outputs": [],
   "source": [
    "# Biggest hit in the input\n",
    "hit_ind = np.argwhere(np.max(sipm_out[\"hit_amp\"]) == sipm_out[\"hit_amp\"])[0]\n",
    "hit_t0 = sipm_out[\"hit_t0\"][hit_ind[0], hit_ind[1]]"
   ]
  },
  {
   "cell_type": "code",
   "execution_count": null,
   "id": "10",
   "metadata": {},
   "outputs": [],
   "source": [
    "plt.plot(wvfs[hit_ind[1], hit_ind[0], :])\n",
    "plt.axvline(hit_t0, color=\"red\")\n",
    "plt.title(\"Biggest Hit\")"
   ]
  },
  {
   "cell_type": "code",
   "execution_count": null,
   "id": "11",
   "metadata": {},
   "outputs": [],
   "source": []
  }
 ],
 "metadata": {
  "kernelspec": {
   "display_name": "SBC conda (env)",
   "language": "python",
   "name": "sbc-env"
  },
  "language_info": {
   "codemirror_mode": {
    "name": "ipython",
    "version": 3
   },
   "file_extension": ".py",
   "mimetype": "text/x-python",
   "name": "python",
   "nbconvert_exporter": "python",
   "pygments_lexer": "ipython3",
   "version": "3.13.5"
  }
 },
 "nbformat": 4,
 "nbformat_minor": 5
}
